{
 "cells": [
  {
   "cell_type": "markdown",
   "id": "13652ec0",
   "metadata": {},
   "source": [
    "### Scripting fro Data Analysis\n",
    "#### Machine Learning\n",
    "- Subfield of comptuer sciecne that is concered with buildin algorihims which is useful, reloy on colection of examples of sme phenomenon.\n",
    "- Process involves :\n",
    "- Gathering a dataset\n",
    "- Alorithimically building a statistical model based on the dataset\n",
    "- ML is a subset of AI, it is makin gthe compter learn from studing data and statistics. \n",
    "- A system that learn through data\n",
    "#### Regression\n",
    "- Linear Regression\n",
    "- Other Regressions"
   ]
  },
  {
   "cell_type": "code",
   "execution_count": null,
   "id": "55f721c5",
   "metadata": {},
   "outputs": [],
   "source": [
    "Types of machine Learning\n",
    "- supervised learning\n",
    "- Unsupervised\n",
    "- Semi Superivesed,\n",
    "-Reinforcement learning\n",
    "\n",
    "\n"
   ]
  },
  {
   "cell_type": "markdown",
   "id": "814d2b22",
   "metadata": {},
   "source": [
    "#### Supervised Learning\n",
    " - Input variales (x) and an output variable (y)\n",
    " - use an algorithm to learn the mapping function from the input to the output Y=f(x)\n",
    " - The goal is to approximae the mapping fuction so well that when new input data (x) comes , it can predict  the output variables(y) for the data. \n",
    " ##### Types\n",
    " - Linear Regression\n",
    " - Logistic Regression\n",
    " - K-Nearest Neighour\n",
    " - Decision Tree, Random Forest\n",
    " - Suppot Vector Machinces (SVM)\n",
    " \n",
    " "
   ]
  },
  {
   "cell_type": "markdown",
   "id": "2a364be7",
   "metadata": {},
   "source": [
    "#### Unsupervised  Learning\n",
    "- Only have input no corresponing output\n",
    "- Model the uderlying structure or distribution in the data in orther to learn more about the data.\n",
    "#### eg:\n",
    "- Clusting: "
   ]
  },
  {
   "cell_type": "markdown",
   "id": "4821a84e",
   "metadata": {},
   "source": [
    "#### Semi Supervised Learning "
   ]
  },
  {
   "cell_type": "markdown",
   "id": "9a39431f",
   "metadata": {},
   "source": [
    "#### Reinformement learing\n",
    "A leaening method that interacs with its everoment by producing actions and sicovers errors or reqards\n",
    "- Learning these optimal goals boals by trial and error"
   ]
  },
  {
   "cell_type": "code",
   "execution_count": null,
   "id": "bddb1155",
   "metadata": {},
   "outputs": [],
   "source": [
    "choosing a Model : context, requiement, effiecney, what you want to archive, "
   ]
  },
  {
   "cell_type": "markdown",
   "id": "064a4f23",
   "metadata": {},
   "source": [
    "### Machine Leanng Workflow\n",
    "- Data > train & New data  \n",
    "\n",
    "                 >"
   ]
  },
  {
   "cell_type": "markdown",
   "id": "187b9135",
   "metadata": {},
   "source": [
    "#### How to split\n",
    " - Single Split{you have your data and split it into two} Divide dataset into traing and testing set\n",
    "  \n",
    "#### k-fold corss validation    "
   ]
  },
  {
   "cell_type": "code",
   "execution_count": null,
   "id": "be8f80d1",
   "metadata": {},
   "outputs": [],
   "source": [
    "### Regression - {used to find relationship to find realtionship bwtween variables/ attributes; it can be used to predict a real valued label(target) ien an unlabeled sample}\n",
    "it takes a labelled input and produces a model that can take unlaveld data and return the continuous output variable.\n",
    "\n",
    "- Feature={measureable property af a phenomenon being observed}\n",
    "- ClassifierL = {an algorithm that maps input data to specific output\n",
    "                }\n",
    "- Regression Model: A classifer that maps the input data to a specific numeric output\n",
    "    \n",
    "    \n"
   ]
  },
  {
   "cell_type": "code",
   "execution_count": null,
   "id": "120e890f",
   "metadata": {},
   "outputs": [],
   "source": [
    "## Types of regression {Linear Regression: Learns a model which is a linear combination bet features fo the sample}\n"
   ]
  },
  {
   "cell_type": "code",
   "execution_count": 1,
   "id": "ef684aea",
   "metadata": {},
   "outputs": [
    {
     "ename": "AttributeError",
     "evalue": "module 'numpy' has no attribute 'randomn'",
     "output_type": "error",
     "traceback": [
      "\u001b[0;31m---------------------------------------------------------------------------\u001b[0m",
      "\u001b[0;31mAttributeError\u001b[0m                            Traceback (most recent call last)",
      "Input \u001b[0;32mIn [1]\u001b[0m, in \u001b[0;36m<cell line: 4>\u001b[0;34m()\u001b[0m\n\u001b[1;32m      1\u001b[0m \u001b[38;5;28;01mimport\u001b[39;00m \u001b[38;5;21;01mmatplotlib\u001b[39;00m\u001b[38;5;21;01m.\u001b[39;00m\u001b[38;5;21;01mpyplot\u001b[39;00m \u001b[38;5;28;01mas\u001b[39;00m \u001b[38;5;21;01mplt\u001b[39;00m\n\u001b[1;32m      2\u001b[0m \u001b[38;5;28;01mimport\u001b[39;00m \u001b[38;5;21;01mnumpy\u001b[39;00m \u001b[38;5;28;01mas\u001b[39;00m \u001b[38;5;21;01mnp\u001b[39;00m\n\u001b[0;32m----> 4\u001b[0m x \u001b[38;5;241m=\u001b[39m \u001b[38;5;241m2\u001b[39m \u001b[38;5;241m*\u001b[39m \u001b[43mnp\u001b[49m\u001b[38;5;241;43m.\u001b[39;49m\u001b[43mrandomn\u001b[49m(\u001b[38;5;241m100\u001b[39m, \u001b[38;5;241m1\u001b[39m)\n",
      "File \u001b[0;32m~/anaconda3/lib/python3.9/site-packages/numpy/__init__.py:313\u001b[0m, in \u001b[0;36m__getattr__\u001b[0;34m(attr)\u001b[0m\n\u001b[1;32m    310\u001b[0m     \u001b[38;5;28;01mfrom\u001b[39;00m \u001b[38;5;21;01m.\u001b[39;00m\u001b[38;5;21;01mtesting\u001b[39;00m \u001b[38;5;28;01mimport\u001b[39;00m Tester\n\u001b[1;32m    311\u001b[0m     \u001b[38;5;28;01mreturn\u001b[39;00m Tester\n\u001b[0;32m--> 313\u001b[0m \u001b[38;5;28;01mraise\u001b[39;00m \u001b[38;5;167;01mAttributeError\u001b[39;00m(\u001b[38;5;124m\"\u001b[39m\u001b[38;5;124mmodule \u001b[39m\u001b[38;5;132;01m{!r}\u001b[39;00m\u001b[38;5;124m has no attribute \u001b[39m\u001b[38;5;124m\"\u001b[39m\n\u001b[1;32m    314\u001b[0m                      \u001b[38;5;124m\"\u001b[39m\u001b[38;5;132;01m{!r}\u001b[39;00m\u001b[38;5;124m\"\u001b[39m\u001b[38;5;241m.\u001b[39mformat(\u001b[38;5;18m__name__\u001b[39m, attr))\n",
      "\u001b[0;31mAttributeError\u001b[0m: module 'numpy' has no attribute 'randomn'"
     ]
    }
   ],
   "source": [
    "import matplotlib.pyplot as plt\n",
    "import numpy as np\n",
    "\n",
    "x = 2 * np.randomn(100, 1)\n"
   ]
  },
  {
   "cell_type": "code",
   "execution_count": null,
   "id": "17126d9d",
   "metadata": {},
   "outputs": [],
   "source": []
  }
 ],
 "metadata": {
  "kernelspec": {
   "display_name": "Python 3 (ipykernel)",
   "language": "python",
   "name": "python3"
  },
  "language_info": {
   "codemirror_mode": {
    "name": "ipython",
    "version": 3
   },
   "file_extension": ".py",
   "mimetype": "text/x-python",
   "name": "python",
   "nbconvert_exporter": "python",
   "pygments_lexer": "ipython3",
   "version": "3.9.12"
  }
 },
 "nbformat": 4,
 "nbformat_minor": 5
}
